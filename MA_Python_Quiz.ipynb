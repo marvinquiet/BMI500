{
 "cells": [
  {
   "cell_type": "markdown",
   "metadata": {},
   "source": [
    "### BMI 500 - HW2\n",
    "##### Wenjing Ma (wenjing.ma@emory.edu)\n",
    "\n",
    "#### Problem 1"
   ]
  },
  {
   "cell_type": "code",
   "execution_count": 49,
   "metadata": {},
   "outputs": [],
   "source": [
    "import numpy as np\n",
    "import matplotlib.pyplot as plt\n",
    "\n",
    "## Note: It seems that the Leibnis formula given in the homework should start from k=0\n",
    "## Thus in this homework, I wrote it with the starting index as 0\n",
    "\n",
    "## This function came to my mind first when I saw the problem \n",
    "## although it is the same as problem2a.\n",
    "def Leibnis_func(n):\n",
    "    Leibnis_res = 0 # initialize the result\n",
    "    for i in range(n): \n",
    "        if i % 2 == 0: # if even index (0, 2, 4, ..etc), add\n",
    "            Leibnis_res += 1/(2*i+1)\n",
    "        else: # if odd, substract\n",
    "            Leibnis_res -= 1/(2*i+1)\n",
    "    return Leibnis_res"
   ]
  },
  {
   "cell_type": "markdown",
   "metadata": {},
   "source": [
    "#### Problem 2"
   ]
  },
  {
   "cell_type": "code",
   "execution_count": 33,
   "metadata": {},
   "outputs": [],
   "source": [
    "## a. for-loop and if-statement with %\n",
    "def Leibnis_func_a(n):\n",
    "    Leibnis_res = 0 # initialize the result\n",
    "    for i in range(n): \n",
    "        if i % 2 == 0: # if even index (0, 2, 4, ..etc), add\n",
    "            Leibnis_res += 1/(2*i+1)\n",
    "        else: # if odd, substract\n",
    "            Leibnis_res -= 1/(2*i+1)\n",
    "    return Leibnis_res"
   ]
  },
  {
   "cell_type": "code",
   "execution_count": 34,
   "metadata": {},
   "outputs": [],
   "source": [
    "## b. for-loop woth quantity (-1)**n\n",
    "def Leibnis_func_b(n):\n",
    "    Leibnis_res = 0 # initialize the result\n",
    "    for i in range(n):\n",
    "        Leibnis_res += ((-1)**i)/(2*i+1)\n",
    "    return Leibnis_res"
   ]
  },
  {
   "cell_type": "code",
   "execution_count": 35,
   "metadata": {},
   "outputs": [],
   "source": [
    "## c. construct list\n",
    "def Leibnis_func_c(n):\n",
    "    # for-loop in list\n",
    "    Leibnis_list = [((-1)**i)/(2*i+1) for i in range(n)] \n",
    "    return sum(Leibnis_list) # return sum"
   ]
  },
  {
   "cell_type": "code",
   "execution_count": 36,
   "metadata": {},
   "outputs": [],
   "source": [
    "## d. construct set\n",
    "def Leibnis_func_d(n):\n",
    "    # for-loop in set\n",
    "    Leibnis_set = {((-1)**i)/(2*i+1) for i in range(n)}\n",
    "    return sum(Leibnis_set) # return sum"
   ]
  },
  {
   "cell_type": "code",
   "execution_count": 37,
   "metadata": {},
   "outputs": [],
   "source": [
    "## e. construct dictrionary\n",
    "def Leibnis_func_e(n):\n",
    "    # for-loop in dictionary\n",
    "    Leibnis_dict = {i:((-1)**i)/(2*i+1) for i in range(n)}\n",
    "    return sum(Leibnis_dict.values())"
   ]
  },
  {
   "cell_type": "code",
   "execution_count": 38,
   "metadata": {},
   "outputs": [],
   "source": [
    "## f. construct NumPy array\n",
    "def Leibnis_func_f(n):\n",
    "    # for-loop in NumPy array\n",
    "    Leibnis_array = np.array([((-1)**i)/(2*i+1) for i in range(n)])\n",
    "    return np.sum(Leibnis_array)"
   ]
  },
  {
   "cell_type": "code",
   "execution_count": 39,
   "metadata": {},
   "outputs": [],
   "source": [
    "## g. construct NumPy array with indexing\n",
    "def Leibnis_func_g(n):\n",
    "    # for-loop in NumPy array\n",
    "    Leibnis_array = np.array([((-1)**i)/(2*i+1) for i in range(n)])\n",
    "    pos = np.sum(Leibnis_array[::2]) # add up positives\n",
    "    neg = np.sum(Leibnis_array[1::2]) # add up negatives\n",
    "    return pos+neg"
   ]
  },
  {
   "cell_type": "code",
   "execution_count": 40,
   "metadata": {},
   "outputs": [],
   "source": [
    "## j. Combine terms\n",
    "def Leibnis_func_j(n):\n",
    "    Leibnis_sum = 0\n",
    "    i = 0\n",
    "    ## make sure the combined terms are together\n",
    "    while i + 1 < n:\n",
    "        Leibnis_sum += (1/(2*i+1) - 1/(2*i+3)) # add up combined terms\n",
    "        i += 2 # next combination\n",
    "\n",
    "    ## if odd, then add the last term back\n",
    "    if n % 2 == 1:\n",
    "        Leibnis_sum += 1/(2*i+1)\n",
    "    return Leibnis_sum"
   ]
  },
  {
   "cell_type": "markdown",
   "metadata": {},
   "source": [
    "#### Problem 3\n",
    "Let's use **n as 1000** to do the math."
   ]
  },
  {
   "cell_type": "code",
   "execution_count": 45,
   "metadata": {},
   "outputs": [
    {
     "name": "stdout",
     "output_type": "stream",
     "text": [
      "Function a: 0.000999999749998981\n",
      "Function b: 0.000999999749998981\n",
      "Function c: 0.000999999749998981\n",
      "Function d: 0.0009999997499949842\n",
      "Function e: 0.000999999749998981\n",
      "Function f: 0.0009999997500012014\n",
      "Function g: 0.0009999997500029778\n",
      "Function j: 0.0009999997500029778\n"
     ]
    }
   ],
   "source": [
    "## Assess accuracy first\n",
    "n = 1000\n",
    "golden = np.pi\n",
    "print(\"Function a:\", abs(4*Leibnis_func_a(n=n)-golden))\n",
    "print(\"Function b:\", abs(4*Leibnis_func_b(n=n)-golden))\n",
    "print(\"Function c:\", abs(4*Leibnis_func_c(n=n)-golden))\n",
    "print(\"Function d:\", abs(4*Leibnis_func_d(n=n)-golden))\n",
    "print(\"Function e:\", abs(4*Leibnis_func_e(n=n)-golden))\n",
    "print(\"Function f:\", abs(4*Leibnis_func_f(n=n)-golden))\n",
    "print(\"Function g:\", abs(4*Leibnis_func_g(n=n)-golden))\n",
    "print(\"Function j:\", abs(4*Leibnis_func_j(n=n)-golden))"
   ]
  },
  {
   "cell_type": "markdown",
   "metadata": {},
   "source": [
    "According to the result, it seems that function d has the least difference with the `np.pi` result, which used the Python set. "
   ]
  },
  {
   "cell_type": "code",
   "execution_count": 47,
   "metadata": {},
   "outputs": [
    {
     "name": "stdout",
     "output_type": "stream",
     "text": [
      "181 µs ± 9.55 µs per loop (mean ± std. dev. of 7 runs, 10000 loops each)\n",
      "415 µs ± 21 µs per loop (mean ± std. dev. of 7 runs, 1000 loops each)\n",
      "423 µs ± 29.2 µs per loop (mean ± std. dev. of 7 runs, 1000 loops each)\n",
      "457 µs ± 3.55 µs per loop (mean ± std. dev. of 7 runs, 1000 loops each)\n",
      "451 µs ± 24.7 µs per loop (mean ± std. dev. of 7 runs, 1000 loops each)\n",
      "468 µs ± 35.8 µs per loop (mean ± std. dev. of 7 runs, 1000 loops each)\n",
      "476 µs ± 27.1 µs per loop (mean ± std. dev. of 7 runs, 1000 loops each)\n",
      "156 µs ± 9.28 µs per loop (mean ± std. dev. of 7 runs, 10000 loops each)\n"
     ]
    }
   ],
   "source": [
    "## Assess speed then\n",
    "%timeit Leibnis_func_a(n=n)\n",
    "%timeit Leibnis_func_b(n=n)\n",
    "%timeit Leibnis_func_c(n=n)\n",
    "%timeit Leibnis_func_d(n=n)\n",
    "%timeit Leibnis_func_e(n=n)\n",
    "%timeit Leibnis_func_f(n=n)\n",
    "%timeit Leibnis_func_g(n=n)\n",
    "%timeit Leibnis_func_j(n=n)"
   ]
  },
  {
   "cell_type": "markdown",
   "metadata": {},
   "source": [
    "According to the result, it seems that `a` and `j` are having more loops than others, which makes the result slow. In the contrast, `b` using for-loop along with quantity `(-1)**n` seem to be the fastest.\n",
    "\n",
    "As a combination, I may use `function c` to calculate pi because the overal speed is faster and it has clear and neat code. Although it seems less accurate than `function d`, it is still close enough for calculating pi."
   ]
  },
  {
   "cell_type": "markdown",
   "metadata": {},
   "source": [
    "#### Problem 4"
   ]
  },
  {
   "cell_type": "code",
   "execution_count": 63,
   "metadata": {},
   "outputs": [],
   "source": [
    "## calculate the errors for 10,000 points\n",
    "errors = [abs(4*Leibnis_func_c(i)-np.pi) for i in range(1, 10000)]"
   ]
  },
  {
   "cell_type": "code",
   "execution_count": 64,
   "metadata": {},
   "outputs": [
    {
     "data": {
      "text/plain": [
       "Text(0, 0.5, 'Absolute Errors')"
      ]
     },
     "execution_count": 64,
     "metadata": {},
     "output_type": "execute_result"
    },
    {
     "data": {
      "image/png": "[encoded data removed]",
      "text/plain": [
       "<Figure size 144x144 with 1 Axes>"
      ]
     },
     "metadata": {
      "needs_background": "light"
     },
     "output_type": "display_data"
    }
   ],
   "source": [
    "# start plotting\n",
    "plt.figure(figsize = (2, 2))\n",
    "plt.plot(errors)\n",
    "plt.xscale('log',basex=10) \n",
    "plt.yscale('log',basey=10)\n",
    "plt.grid(True)\n",
    "plt.xlabel(\"Number of terms\")\n",
    "plt.ylabel(\"Absolute Errors\")"
   ]
  },
  {
   "cell_type": "markdown",
   "metadata": {},
   "source": [
    "#### Problem 5\n",
    "I may want to generate two column vectors and use the inner product to calculate the sum. One of them stores the value, and the other stores the sign. Because Matlab stored data in a column-wise way."
   ]
  }
 ],
 "metadata": {
  "kernelspec": {
   "display_name": "Python 3",
   "language": "python",
   "name": "python3"
  },
  "language_info": {
   "codemirror_mode": {
    "name": "ipython",
    "version": 3
   },
   "file_extension": ".py",
   "mimetype": "text/x-python",
   "name": "python",
   "nbconvert_exporter": "python",
   "pygments_lexer": "ipython3",
   "version": "3.7.3"
  }
 },
 "nbformat": 4,
 "nbformat_minor": 2
}
